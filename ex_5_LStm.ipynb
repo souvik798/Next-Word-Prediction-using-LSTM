{
  "nbformat": 4,
  "nbformat_minor": 0,
  "metadata": {
    "colab": {
      "provenance": []
    },
    "kernelspec": {
      "name": "python3",
      "display_name": "Python 3"
    },
    "language_info": {
      "name": "python"
    }
  },
  "cells": [
    {
      "cell_type": "code",
      "execution_count": 1,
      "metadata": {
        "id": "aA-Tm8_-VaYP"
      },
      "outputs": [],
      "source": [
        "import numpy as np\n",
        "import matplotlib.pyplot as plt\n",
        "import tensorflow as tf\n",
        "import pickle"
      ]
    },
    {
      "cell_type": "code",
      "source": [
        "FILE_PATH = 'sonnets1.txt'\n",
        "NUM_BATCHES = 16\n",
        "LSTM_UNITS = 128\n",
        "EMBEDDING_DIM = 100"
      ],
      "metadata": {
        "id": "XIvH3vV-W7vG"
      },
      "execution_count": 6,
      "outputs": []
    },
    {
      "cell_type": "code",
      "source": [
        "# Read the data\n",
        "with open(FILE_PATH) as f:\n",
        "    data = f.read()\n",
        "\n"
      ],
      "metadata": {
        "colab": {
          "base_uri": "https://localhost:8080/",
          "height": 193
        },
        "id": "U8OBGP-AX_YB",
        "outputId": "41d9ed35-fdf3-4abe-9073-576f77909add"
      },
      "execution_count": 9,
      "outputs": [
        {
          "output_type": "error",
          "ename": "FileNotFoundError",
          "evalue": "[Errno 2] No such file or directory: 'sonnets1.txt'",
          "traceback": [
            "\u001b[0;31m---------------------------------------------------------------------------\u001b[0m",
            "\u001b[0;31mFileNotFoundError\u001b[0m                         Traceback (most recent call last)",
            "\u001b[0;32m<ipython-input-9-8fbfb91d31af>\u001b[0m in \u001b[0;36m<cell line: 2>\u001b[0;34m()\u001b[0m\n\u001b[1;32m      1\u001b[0m \u001b[0;31m# Read the data\u001b[0m\u001b[0;34m\u001b[0m\u001b[0;34m\u001b[0m\u001b[0m\n\u001b[0;32m----> 2\u001b[0;31m \u001b[0;32mwith\u001b[0m \u001b[0mopen\u001b[0m\u001b[0;34m(\u001b[0m\u001b[0mFILE_PATH\u001b[0m\u001b[0;34m)\u001b[0m \u001b[0;32mas\u001b[0m \u001b[0mf\u001b[0m\u001b[0;34m:\u001b[0m\u001b[0;34m\u001b[0m\u001b[0;34m\u001b[0m\u001b[0m\n\u001b[0m\u001b[1;32m      3\u001b[0m     \u001b[0mdata\u001b[0m \u001b[0;34m=\u001b[0m \u001b[0mf\u001b[0m\u001b[0;34m.\u001b[0m\u001b[0mread\u001b[0m\u001b[0;34m(\u001b[0m\u001b[0;34m)\u001b[0m\u001b[0;34m\u001b[0m\u001b[0;34m\u001b[0m\u001b[0m\n\u001b[1;32m      4\u001b[0m \u001b[0;34m\u001b[0m\u001b[0m\n",
            "\u001b[0;31mFileNotFoundError\u001b[0m: [Errno 2] No such file or directory: 'sonnets1.txt'"
          ]
        }
      ]
    },
    {
      "cell_type": "code",
      "source": [
        "# Read the data\n",
        "with open(\"/content/sonnets1.txt.txt\") as f:\n",
        "    data = f.read()\n",
        "\n",
        "# Convert to lower case and save as a list\n",
        "corpus = data.lower().split(\"\\n\")\n",
        "\n",
        "print(f\"There are {len(corpus)} lines of sonnets\\n\")\n",
        "print(f\"The first 5 lines look like this:\\n\")\n",
        "for i in range(5):\n",
        "  print(corpus[i])\n",
        ""
      ],
      "metadata": {
        "colab": {
          "base_uri": "https://localhost:8080/"
        },
        "id": "X75nl3zlYIxc",
        "outputId": "73f51bd8-e5ce-4c55-ad0a-09e11edec0e4"
      },
      "execution_count": 12,
      "outputs": [
        {
          "output_type": "stream",
          "name": "stdout",
          "text": [
            "There are 2465 lines of sonnets\n",
            "\n",
            "The first 5 lines look like this:\n",
            "\n",
            "from fairest creatures we desire increase,\n",
            "that thereby beauty's rose might never die,\n",
            "but as the riper should by time decease,\n",
            "his tender heir might bear his memory:\n",
            "but thou contracted to thine own bright eyes,\n"
          ]
        }
      ]
    },
    {
      "cell_type": "code",
      "source": [
        "\n",
        "def fit_vectorizer(corpus):\n",
        "    \"\"\"\n",
        "    Instantiates the vectorizer class on the corpus\n",
        "\n",
        "    Args:\n",
        "        corpus (list): List with the sentences.\n",
        "\n",
        "    Returns:\n",
        "        (tf.keras.layers.TextVectorization): an instance of the TextVectorization class containing the word-index dictionary, adapted to the corpus sentences.\n",
        "    \"\"\"\n",
        "\n",
        "    tf.keras.utils.set_random_seed(65) # Do not change this line or you may have different expected outputs throughout the assignment\n",
        "\n",
        "    ### START CODE HERE ###\n",
        "\n",
        "     # Define the object with appropriate parameters\n",
        "    vectorizer = tf.keras.layers.TextVectorization(\n",
        "        standardize='lower_and_strip_punctuation',  # Convert to lowercase and strip punctuation\n",
        "        split='whitespace',  # Split on whitespace (default)\n",
        "        ragged=True,  # Allow ragged tensors\n",
        "        output_mode='int'  # Output as integers\n",
        "    )\n",
        "\n",
        "    # Adapt it to the corpus\n",
        "    vectorizer.adapt(corpus)\n",
        "    ### END CODE HERE ###\n",
        "\n",
        "    return vectorizer"
      ],
      "metadata": {
        "id": "BF0UBvnLblMS"
      },
      "execution_count": 14,
      "outputs": []
    },
    {
      "cell_type": "code",
      "source": [
        "vectorizer = fit_vectorizer(corpus)\n",
        "total_words = len(vectorizer.get_vocabulary())\n",
        "print('Name:  souvik kundu               Register Number: 212221230105                ')\n",
        "print(f\"Total number of words in corpus (including the out of vocabulary): {total_words}\")"
      ],
      "metadata": {
        "colab": {
          "base_uri": "https://localhost:8080/"
        },
        "id": "JKW3pAYrcL8p",
        "outputId": "db82267e-3b4e-4fb9-b08e-153ec0e57556"
      },
      "execution_count": 15,
      "outputs": [
        {
          "output_type": "stream",
          "name": "stdout",
          "text": [
            "Name:                 Register Number:                 \n",
            "Total number of words in corpus (including the out of vocabulary): 3180\n"
          ]
        }
      ]
    },
    {
      "cell_type": "code",
      "source": [
        "vectorizer = fit_vectorizer(corpus)\n",
        "total_words = len(vectorizer.get_vocabulary())\n",
        "print('Name: Souvik kundu    Register Number: 212221230105')\n",
        "print(f\"Total number of words in corpus (including the out of vocabulary): {total_words}\")"
      ],
      "metadata": {
        "colab": {
          "base_uri": "https://localhost:8080/"
        },
        "id": "J6AYLoMUcvek",
        "outputId": "b0ca5fda-a7ed-439e-f7c1-dcc5f53fbe9d"
      },
      "execution_count": 16,
      "outputs": [
        {
          "output_type": "stream",
          "name": "stdout",
          "text": [
            "Name: Souvik kundu    Register Number: 212221230105\n",
            "Total number of words in corpus (including the out of vocabulary): 3180\n"
          ]
        }
      ]
    },
    {
      "cell_type": "code",
      "source": [
        "print('Name: Souvik Kundu   Register Number: 212221230105')\n",
        "print(f\"Passing a string directly: {vectorizer('This is a test string').__repr__()}\")\n",
        "print(f\"Passing a list of strings: {vectorizer(['This is a test string'])}\")"
      ],
      "metadata": {
        "colab": {
          "base_uri": "https://localhost:8080/"
        },
        "id": "AYz_LMpvdFvo",
        "outputId": "01cab7e2-200d-4979-82bf-f838a2e7ed5a"
      },
      "execution_count": 17,
      "outputs": [
        {
          "output_type": "stream",
          "name": "stdout",
          "text": [
            "Name: Souvik Kundu   Register Number: 212221230105\n",
            "Passing a string directly: <tf.Tensor: shape=(5,), dtype=int64, numpy=array([  30,   14,   18,    1, 1688])>\n",
            "Passing a list of strings: <tf.RaggedTensor [[30, 14, 18, 1, 1688]]>\n"
          ]
        }
      ]
    },
    {
      "cell_type": "code",
      "source": [
        "# GRADED FUNCTION: n_gram_seqs\n",
        "\n",
        "def n_gram_seqs(corpus, vectorizer):\n",
        "    \"\"\"\n",
        "    Generates a list of n-gram sequences\n",
        "\n",
        "    Args:\n",
        "        corpus (list of string): lines of texts to generate n-grams for\n",
        "        vectorizer (tf.keras.layers.TextVectorization): an instance of the TextVectorization class adapted in the corpus\n",
        "\n",
        "    Returns:\n",
        "        (list of tf.int64 tensors): the n-gram sequences for each line in the corpus\n",
        "    \"\"\"\n",
        "    input_sequences = []\n",
        "\n",
        "    ### START CODE HERE ###\n",
        "    for sentence in corpus:\n",
        "        # Vectorize the sentence to get the token indices\n",
        "        vectorized_sentence = vectorizer(sentence)\n",
        "\n",
        "        # Generate n-grams for the vectorized sentence\n",
        "        for i in range(2, vectorized_sentence.shape[0] + 1):  # Start from 2 to avoid the first token\n",
        "            n_gram = vectorized_sentence[:i]\n",
        "            input_sequences.append(n_gram)\n",
        "\n",
        "    ### END CODE HERE ###\n",
        "\n",
        "    return input_sequences\n",
        "\n"
      ],
      "metadata": {
        "id": "LETylAnTdhcl"
      },
      "execution_count": 4,
      "outputs": []
    },
    {
      "cell_type": "code",
      "source": [
        "# Apply the n_gram_seqs transformation to the whole corpus\n",
        "input_sequences = n_gram_seqs(corpus, vectorizer)\n",
        "\n",
        "# Save max length\n",
        "max_sequence_len = max([len(x) for x in input_sequences])\n",
        "print('Name: souvik kundu     Register Number: 212221230105')\n",
        "print(f\"n_grams of input_sequences have length: {len(input_sequences)}\")\n",
        "print(f\"maximum length of sequences is: {max_sequence_len}\")"
      ],
      "metadata": {
        "colab": {
          "base_uri": "https://localhost:8080/",
          "height": 211
        },
        "id": "QOBaPghk6x8T",
        "outputId": "147edcf1-b57c-46ba-8c78-102d739e4766"
      },
      "execution_count": 22,
      "outputs": [
        {
          "output_type": "error",
          "ename": "NameError",
          "evalue": "name 'vectorizer' is not defined",
          "traceback": [
            "\u001b[0;31m---------------------------------------------------------------------------\u001b[0m",
            "\u001b[0;31mNameError\u001b[0m                                 Traceback (most recent call last)",
            "\u001b[0;32m<ipython-input-22-e3f35abb912f>\u001b[0m in \u001b[0;36m<cell line: 2>\u001b[0;34m()\u001b[0m\n\u001b[1;32m      1\u001b[0m \u001b[0;31m# Apply the n_gram_seqs transformation to the whole corpus\u001b[0m\u001b[0;34m\u001b[0m\u001b[0;34m\u001b[0m\u001b[0m\n\u001b[0;32m----> 2\u001b[0;31m \u001b[0minput_sequences\u001b[0m \u001b[0;34m=\u001b[0m \u001b[0mn_gram_seqs\u001b[0m\u001b[0;34m(\u001b[0m\u001b[0mcorpus\u001b[0m\u001b[0;34m,\u001b[0m \u001b[0mvectorizer\u001b[0m\u001b[0;34m)\u001b[0m\u001b[0;34m\u001b[0m\u001b[0;34m\u001b[0m\u001b[0m\n\u001b[0m\u001b[1;32m      3\u001b[0m \u001b[0;34m\u001b[0m\u001b[0m\n\u001b[1;32m      4\u001b[0m \u001b[0;31m# Save max length\u001b[0m\u001b[0;34m\u001b[0m\u001b[0;34m\u001b[0m\u001b[0m\n\u001b[1;32m      5\u001b[0m \u001b[0mmax_sequence_len\u001b[0m \u001b[0;34m=\u001b[0m \u001b[0mmax\u001b[0m\u001b[0;34m(\u001b[0m\u001b[0;34m[\u001b[0m\u001b[0mlen\u001b[0m\u001b[0;34m(\u001b[0m\u001b[0mx\u001b[0m\u001b[0;34m)\u001b[0m \u001b[0;32mfor\u001b[0m \u001b[0mx\u001b[0m \u001b[0;32min\u001b[0m \u001b[0minput_sequences\u001b[0m\u001b[0;34m]\u001b[0m\u001b[0;34m)\u001b[0m\u001b[0;34m\u001b[0m\u001b[0;34m\u001b[0m\u001b[0m\n",
            "\u001b[0;31mNameError\u001b[0m: name 'vectorizer' is not defined"
          ]
        }
      ]
    },
    {
      "cell_type": "code",
      "source": [
        "# Previous cell where you defined fit_vectorizer and initialized vectorizer\n",
        "from tensorflow.keras.layers import TextVectorization\n",
        "\n",
        "def fit_vectorizer(corpus):\n",
        "    # Define the vocabulary size\n",
        "    vocab_size = 10000\n",
        "\n",
        "    # Create a TextVectorization layer\n",
        "    vectorizer = TextVectorization(max_tokens=vocab_size, output_sequence_length=20)\n",
        "\n",
        "    # Adapt the layer to the corpus\n",
        "    vectorizer.adapt(corpus)\n",
        "\n",
        "    return vectorizer\n",
        "\n",
        "vectorizer = fit_vectorizer(corpus)  # Assuming corpus is defined somewhere\n",
        "\n",
        "# ... other code ...\n",
        "\n",
        "# Current cell ipython-input-22-e3f35abb912f\n",
        "# Apply the n_gram_seqs transformation to the whole corpus\n",
        "\n",
        "# Import necessary function\n",
        "from __main__ import n_gram_seqs  # Importing n_gram_seqs from the main scope\n",
        "\n",
        "input_sequences = n_gram_seqs(corpus, vectorizer)\n",
        "\n",
        "# Save max length\n",
        "max_sequence_len = max([len(x) for x in input_sequences])\n",
        "print('Name: souvik kundu     Register Number: 212221230105')\n",
        "print(f\"n_grams of input_sequences have length: {len(input_sequences)}\")\n",
        "print(f\"maximum length of sequences is: {max_sequence_len}\")"
      ],
      "metadata": {
        "colab": {
          "base_uri": "https://localhost:8080/"
        },
        "id": "Vdnzf5-i7Gjk",
        "outputId": "074a6fad-600b-44a7-91b2-de346536e9bf"
      },
      "execution_count": 23,
      "outputs": [
        {
          "output_type": "stream",
          "name": "stdout",
          "text": [
            "Name: souvik kundu     Register Number: 212221230105\n",
            "n_grams of input_sequences have length: 76\n",
            "maximum length of sequences is: 20\n"
          ]
        }
      ]
    },
    {
      "cell_type": "code",
      "source": [
        "\n",
        "def fit_vectorizer(corpus):\n",
        "    \"\"\"\n",
        "    Instantiates the vectorizer class on the corpus\n",
        "\n",
        "    Args:\n",
        "        corpus (list): List with the sentences.\n",
        "\n",
        "    Returns:\n",
        "        (tf.keras.layers.TextVectorization): an instance of the TextVectorization class containing the word-index dictionary, adapted to the corpus sentences.\n",
        "    \"\"\"\n",
        "\n",
        "    tf.keras.utils.set_random_seed(65) # Do not change this line or you may have different expected outputs throughout the assignment\n",
        "\n",
        "    ### START CODE HERE ###\n",
        "\n",
        "     # Define the object with appropriate parameters\n",
        "    vectorizer = tf.keras.layers.TextVectorization(\n",
        "        standardize='lower_and_strip_punctuation',  # Convert to lowercase and strip punctuation\n",
        "        split='whitespace',  # Split on whitespace (default)\n",
        "        ragged=True,  # Allow ragged tensors\n",
        "        output_mode='int'  # Output as integers\n",
        "    )\n",
        "\n",
        "    # Adapt it to the corpus\n",
        "    vectorizer.adapt(corpus)\n",
        "    ### END CODE HERE ###\n",
        "\n",
        "    return vectorizer"
      ],
      "metadata": {
        "id": "oNGHgxeYDEo0"
      },
      "execution_count": 42,
      "outputs": []
    },
    {
      "cell_type": "code",
      "source": [
        "vectorizer = fit_vectorizer(corpus)\n",
        "total_words = len(vectorizer.get_vocabulary())\n",
        "print('Name: souvik kundu     Register Number: 212221230105')\n",
        "print(f\"Total number of words in corpus (including the out of vocabulary): {total_words}\")"
      ],
      "metadata": {
        "colab": {
          "base_uri": "https://localhost:8080/"
        },
        "id": "Suq0_PeHFU0T",
        "outputId": "5ccf2894-b6be-474f-ba38-e51876b29d46"
      },
      "execution_count": 44,
      "outputs": [
        {
          "output_type": "stream",
          "name": "stdout",
          "text": [
            "Name: souvik kundu     Register Number: 212221230105\n",
            "Total number of words in corpus (including the out of vocabulary): 11\n"
          ]
        }
      ]
    },
    {
      "cell_type": "code",
      "source": [
        "print('Name: souvik kundu     Register Number: 212221230105')\n",
        "print(f\"Passing a string directly: {vectorizer('This is a test string').__repr__()}\")\n",
        "print(f\"Passing a list of strings: {vectorizer(['This is a test string'])}\")\n",
        ""
      ],
      "metadata": {
        "colab": {
          "base_uri": "https://localhost:8080/"
        },
        "id": "1o4Lz_auFb8l",
        "outputId": "457eb850-bf26-476e-ac2a-1d7097109da5"
      },
      "execution_count": 45,
      "outputs": [
        {
          "output_type": "stream",
          "name": "stdout",
          "text": [
            "Name: souvik kundu     Register Number: 212221230105\n",
            "Passing a string directly: <tf.Tensor: shape=(5,), dtype=int64, numpy=array([2, 4, 1, 1, 1])>\n",
            "Passing a list of strings: <tf.RaggedTensor [[2, 4, 1, 1, 1]]>\n"
          ]
        }
      ]
    },
    {
      "cell_type": "code",
      "source": [
        "# GRADED FUNCTION: n_gram_seqs\n",
        "\n",
        "def n_gram_seqs(corpus, vectorizer):\n",
        "    \"\"\"\n",
        "    Generates a list of n-gram sequences\n",
        "\n",
        "    Args:\n",
        "        corpus (list of string): lines of texts to generate n-grams for\n",
        "        vectorizer (tf.keras.layers.TextVectorization): an instance of the TextVectorization class adapted in the corpus\n",
        "\n",
        "    Returns:\n",
        "        (list of tf.int64 tensors): the n-gram sequences for each line in the corpus\n",
        "    \"\"\"\n",
        "    input_sequences = []\n",
        "\n",
        "    ### START CODE HERE ###\n",
        "    for sentence in corpus:\n",
        "        # Vectorize the sentence to get the token indices\n",
        "        vectorized_sentence = vectorizer(sentence)\n",
        "\n",
        "        # Generate n-grams for the vectorized sentence\n",
        "        for i in range(2, vectorized_sentence.shape[0] + 1):  # Start from 2 to avoid the first token\n",
        "            n_gram = vectorized_sentence[:i]\n",
        "            input_sequences.append(n_gram)\n",
        "\n",
        "    ### END CODE HERE ###\n",
        "\n",
        "    return input_sequences\n",
        ""
      ],
      "metadata": {
        "id": "FY5B3Vf4FwNs"
      },
      "execution_count": 46,
      "outputs": []
    },
    {
      "cell_type": "code",
      "source": [
        "# Apply the n_gram_seqs transformation to the whole corpus\n",
        "input_sequences = n_gram_seqs(corpus, vectorizer)\n",
        "\n",
        "# Save max length\n",
        "max_sequence_len = max([len(x) for x in input_sequences])\n",
        "print('Name: souvik kundu    Register Number: 212221230105')\n",
        "print(f\"n_grams of input_sequences have length: {len(input_sequences)}\")\n",
        "print(f\"maximum length of sequences is: {max_sequence_len}\")"
      ],
      "metadata": {
        "colab": {
          "base_uri": "https://localhost:8080/"
        },
        "id": "A4_XLGjsF6Ez",
        "outputId": "6733c32c-8033-4247-87cd-80a0d0b2d367"
      },
      "execution_count": 47,
      "outputs": [
        {
          "output_type": "stream",
          "name": "stdout",
          "text": [
            "Name: souvik kundu    Register Number: 212221230105\n",
            "n_grams of input_sequences have length: 18\n",
            "maximum length of sequences is: 6\n"
          ]
        }
      ]
    },
    {
      "cell_type": "code",
      "source": [
        "# GRADED FUNCTION: pad_seqs\n",
        "\n",
        "def pad_seqs(input_sequences, max_sequence_len):\n",
        "    \"\"\"\n",
        "    Pads tokenized sequences to the same length\n",
        "\n",
        "    Args:\n",
        "        input_sequences (list of int): tokenized sequences to pad\n",
        "        maxlen (int): maximum length of the token sequences\n",
        "\n",
        "    Returns:\n",
        "        (np.array of int32): tokenized sequences padded to the same length\n",
        "    \"\"\"\n",
        "\n",
        "   ### START CODE HERE ###\n",
        "    # Convert tensors to lists if necessary\n",
        "    input_list = [seq if isinstance(seq, list) else seq.numpy().tolist() for seq in input_sequences]\n",
        "\n",
        "    # Use pad_sequences to pad the sequences with left padding ('pre')\n",
        "    padded_sequences = tf.keras.preprocessing.sequence.pad_sequences(\n",
        "        input_list,              # Use the list of lists for padding\n",
        "        maxlen=max_sequence_len,  # Set the maximum length\n",
        "        padding='pre',            # Pad sequences to the left (before the sequence)\n",
        "        dtype='int32'             # Specify the output type as int32\n",
        "    )\n",
        "    ### END CODE HERE ###\n",
        "\n",
        "    return padded_sequences"
      ],
      "metadata": {
        "id": "37KRVOS1GDSc"
      },
      "execution_count": 48,
      "outputs": []
    },
    {
      "cell_type": "code",
      "source": [
        "# Pad the whole corpus\n",
        "input_sequences = pad_seqs(input_sequences, max_sequence_len)\n",
        "print('Name: souvik kundu   Register Number: 212221230105')\n",
        "print(f\"padded corpus has shape: {input_sequences.shape}\")"
      ],
      "metadata": {
        "colab": {
          "base_uri": "https://localhost:8080/"
        },
        "id": "_kpXz0BtGJMz",
        "outputId": "4a4e468e-b69a-41bd-d023-6ed89cc3f7f8"
      },
      "execution_count": 49,
      "outputs": [
        {
          "output_type": "stream",
          "name": "stdout",
          "text": [
            "Name: souvik kundu   Register Number: 212221230105\n",
            "padded corpus has shape: (18, 6)\n"
          ]
        }
      ]
    },
    {
      "cell_type": "code",
      "source": [
        "# GRADED FUNCTION: features_and_labels\n",
        "\n",
        "def features_and_labels_dataset(input_sequences, total_words):\n",
        "    \"\"\"\n",
        "    Generates features and labels from n-grams and returns a tensorflow dataset\n",
        "\n",
        "    Args:\n",
        "        input_sequences (list of int): sequences to split features and labels from\n",
        "        total_words (int): vocabulary size\n",
        "\n",
        "    Returns:\n",
        "        (tf.data.Dataset): Dataset with elements in the form (sentence, label)\n",
        "    \"\"\"\n",
        "    ### START CODE HERE ###\n",
        "    # Define the features by taking all tokens except the last one for each sequence\n",
        "    features = [seq[:-1] for seq in input_sequences]\n",
        "\n",
        "    # Define the labels by taking the last token for each sequence\n",
        "    labels = [seq[-1] for seq in input_sequences]\n",
        "\n",
        "    # One-hot encode the labels using total_words as the number of classes\n",
        "    one_hot_labels = tf.keras.utils.to_categorical(labels, num_classes=total_words)\n",
        "\n",
        "    # Build the dataset using the features and one-hot encoded labels\n",
        "    dataset = tf.data.Dataset.from_tensor_slices((features, one_hot_labels))\n",
        "\n",
        "    # Batch the dataset with a batch size of 16\n",
        "    batch_size = 16  # Feel free to adjust this based on the global variable, but should be <= 64\n",
        "    batched_dataset = dataset.batch(batch_size)\n",
        "\n",
        "    ### END CODE HERE ###\n",
        "\n",
        "    return batched_dataset\n",
        "\n",
        "\n",
        "# Split the whole corpus\n",
        "dataset = features_and_labels_dataset(input_sequences, total_words).prefetch(tf.data.AUTOTUNE)\n",
        "print('Name: souvik kundu   Register Number: 212221230105')\n",
        "print(f\"Feature shape: {dataset.element_spec[0]}\")\n",
        "print(f\"Label shape: {dataset.element_spec[1]}\")"
      ],
      "metadata": {
        "colab": {
          "base_uri": "https://localhost:8080/"
        },
        "id": "zlHjCKpAGX-c",
        "outputId": "e7ffaef5-c853-46e7-ec15-d70a0044505d"
      },
      "execution_count": 51,
      "outputs": [
        {
          "output_type": "stream",
          "name": "stdout",
          "text": [
            "Name: souvik kundu   Register Number: 212221230105\n",
            "Feature shape: TensorSpec(shape=(None, 5), dtype=tf.int32, name=None)\n",
            "Label shape: TensorSpec(shape=(None, 11), dtype=tf.float64, name=None)\n"
          ]
        }
      ]
    },
    {
      "cell_type": "code",
      "source": [
        "# GRADED FUNCTION: create_model\n",
        "\n",
        "def create_model(total_words, max_sequence_len):\n",
        "    \"\"\"\n",
        "    Creates a text generator model\n",
        "\n",
        "    Args:\n",
        "        total_words (int): size of the vocabulary for the Embedding layer input\n",
        "        max_sequence_len (int): length of the input sequences\n",
        "\n",
        "    Returns:\n",
        "       (tf.keras Model): the text generator model\n",
        "    \"\"\"\n",
        "    model = tf.keras.Sequential()\n",
        "\n",
        "   ### START CODE HERE ###\n",
        "    # Input layer shape is max_sequence_len - 1 because we removed the last word as a label\n",
        "    model.add(tf.keras.layers.Input(shape=(max_sequence_len - 1,)))\n",
        "\n",
        "    # Embedding layer\n",
        "    model.add(tf.keras.layers.Embedding(input_dim=total_words,\n",
        "                                        output_dim=100,\n",
        "                                        input_length=max_sequence_len - 1))\n",
        "\n",
        "    # Add a Bidirectional LSTM layer with 150 units\n",
        "    model.add(tf.keras.layers.Bidirectional(tf.keras.layers.LSTM(150)))\n",
        "\n",
        "    # Add a Dense layer with 'total_words' units and softmax activation\n",
        "    model.add(tf.keras.layers.Dense(total_words, activation='softmax'))\n",
        "\n",
        "    # Compile the model\n",
        "    model.compile(loss='categorical_crossentropy',\n",
        "                  optimizer='adam',\n",
        "                  metrics=['accuracy'])\n",
        "    ### END CODE HERE ###\n",
        "\n",
        "    return model\n"
      ],
      "metadata": {
        "id": "4rlG2qH7GkhG"
      },
      "execution_count": 52,
      "outputs": []
    },
    {
      "cell_type": "code",
      "source": [
        "model = create_model(total_words, max_sequence_len)"
      ],
      "metadata": {
        "colab": {
          "base_uri": "https://localhost:8080/"
        },
        "id": "35ISSbgsGzil",
        "outputId": "6f05bd3a-482c-49a6-83b0-d5777ea97327"
      },
      "execution_count": 53,
      "outputs": [
        {
          "output_type": "stream",
          "name": "stderr",
          "text": [
            "/usr/local/lib/python3.10/dist-packages/keras/src/layers/core/embedding.py:90: UserWarning: Argument `input_length` is deprecated. Just remove it.\n",
            "  warnings.warn(\n"
          ]
        }
      ]
    },
    {
      "cell_type": "code",
      "source": [
        "example_batch = dataset.take(1)\n",
        "\n",
        "try:\n",
        "\tmodel.evaluate(example_batch, verbose=False)\n",
        "except:\n",
        "\tprint(\"Your model is not compatible with the dataset you defined earlier. Check that the loss function and last layer are compatible with one another.\")\n",
        "else:\n",
        "\tpredictions = model.predict(example_batch, verbose=False)\n",
        "\tprint(f\"predictions have shape: {predictions.shape}\")"
      ],
      "metadata": {
        "colab": {
          "base_uri": "https://localhost:8080/"
        },
        "id": "bUSBriqYG4iQ",
        "outputId": "44bc2602-cacf-4eb4-d39f-370b4d2e803f"
      },
      "execution_count": 54,
      "outputs": [
        {
          "output_type": "stream",
          "name": "stdout",
          "text": [
            "predictions have shape: (16, 11)\n"
          ]
        }
      ]
    },
    {
      "cell_type": "code",
      "source": [
        "history = model.fit(dataset, epochs=30, verbose=1)\n",
        ""
      ],
      "metadata": {
        "colab": {
          "base_uri": "https://localhost:8080/"
        },
        "id": "9tuB8_PyHDT8",
        "outputId": "822a9407-3c40-4e5c-ae11-3cab77aae543"
      },
      "execution_count": 56,
      "outputs": [
        {
          "output_type": "stream",
          "name": "stdout",
          "text": [
            "Epoch 1/30\n",
            "\u001b[1m2/2\u001b[0m \u001b[32m━━━━━━━━━━━━━━━━━━━━\u001b[0m\u001b[37m\u001b[0m \u001b[1m3s\u001b[0m 20ms/step - accuracy: 0.2106 - loss: 2.3947\n",
            "Epoch 2/30\n",
            "\u001b[1m2/2\u001b[0m \u001b[32m━━━━━━━━━━━━━━━━━━━━\u001b[0m\u001b[37m\u001b[0m \u001b[1m0s\u001b[0m 21ms/step - accuracy: 0.3843 - loss: 2.3644\n",
            "Epoch 3/30\n",
            "\u001b[1m2/2\u001b[0m \u001b[32m━━━━━━━━━━━━━━━━━━━━\u001b[0m\u001b[37m\u001b[0m \u001b[1m0s\u001b[0m 16ms/step - accuracy: 0.3264 - loss: 2.3389\n",
            "Epoch 4/30\n",
            "\u001b[1m2/2\u001b[0m \u001b[32m━━━━━━━━━━━━━━━━━━━━\u001b[0m\u001b[37m\u001b[0m \u001b[1m0s\u001b[0m 15ms/step - accuracy: 0.2106 - loss: 2.3105\n",
            "Epoch 5/30\n",
            "\u001b[1m2/2\u001b[0m \u001b[32m━━━━━━━━━━━━━━━━━━━━\u001b[0m\u001b[37m\u001b[0m \u001b[1m0s\u001b[0m 16ms/step - accuracy: 0.2106 - loss: 2.2768\n",
            "Epoch 6/30\n",
            "\u001b[1m2/2\u001b[0m \u001b[32m━━━━━━━━━━━━━━━━━━━━\u001b[0m\u001b[37m\u001b[0m \u001b[1m0s\u001b[0m 22ms/step - accuracy: 0.2106 - loss: 2.2361\n",
            "Epoch 7/30\n",
            "\u001b[1m2/2\u001b[0m \u001b[32m━━━━━━━━━━━━━━━━━━━━\u001b[0m\u001b[37m\u001b[0m \u001b[1m0s\u001b[0m 21ms/step - accuracy: 0.2106 - loss: 2.1869\n",
            "Epoch 8/30\n",
            "\u001b[1m2/2\u001b[0m \u001b[32m━━━━━━━━━━━━━━━━━━━━\u001b[0m\u001b[37m\u001b[0m \u001b[1m0s\u001b[0m 16ms/step - accuracy: 0.2106 - loss: 2.1298\n",
            "Epoch 9/30\n",
            "\u001b[1m2/2\u001b[0m \u001b[32m━━━━━━━━━━━━━━━━━━━━\u001b[0m\u001b[37m\u001b[0m \u001b[1m0s\u001b[0m 15ms/step - accuracy: 0.2106 - loss: 2.0697\n",
            "Epoch 10/30\n",
            "\u001b[1m2/2\u001b[0m \u001b[32m━━━━━━━━━━━━━━━━━━━━\u001b[0m\u001b[37m\u001b[0m \u001b[1m0s\u001b[0m 15ms/step - accuracy: 0.2106 - loss: 2.0207\n",
            "Epoch 11/30\n",
            "\u001b[1m2/2\u001b[0m \u001b[32m━━━━━━━━━━━━━━━━━━━━\u001b[0m\u001b[37m\u001b[0m \u001b[1m0s\u001b[0m 16ms/step - accuracy: 0.2106 - loss: 2.0071\n",
            "Epoch 12/30\n",
            "\u001b[1m2/2\u001b[0m \u001b[32m━━━━━━━━━━━━━━━━━━━━\u001b[0m\u001b[37m\u001b[0m \u001b[1m0s\u001b[0m 16ms/step - accuracy: 0.2106 - loss: 2.0421\n",
            "Epoch 13/30\n",
            "\u001b[1m2/2\u001b[0m \u001b[32m━━━━━━━━━━━━━━━━━━━━\u001b[0m\u001b[37m\u001b[0m \u001b[1m0s\u001b[0m 40ms/step - accuracy: 0.1528 - loss: 2.0873\n",
            "Epoch 14/30\n",
            "\u001b[1m2/2\u001b[0m \u001b[32m━━━━━━━━━━━━━━━━━━━━\u001b[0m\u001b[37m\u001b[0m \u001b[1m0s\u001b[0m 23ms/step - accuracy: 0.1898 - loss: 2.0875\n",
            "Epoch 15/30\n",
            "\u001b[1m2/2\u001b[0m \u001b[32m━━━━━━━━━━━━━━━━━━━━\u001b[0m\u001b[37m\u001b[0m \u001b[1m0s\u001b[0m 25ms/step - accuracy: 0.2477 - loss: 2.0373\n",
            "Epoch 16/30\n",
            "\u001b[1m2/2\u001b[0m \u001b[32m━━━━━━━━━━━━━━━━━━━━\u001b[0m\u001b[37m\u001b[0m \u001b[1m0s\u001b[0m 30ms/step - accuracy: 0.2477 - loss: 1.9577\n",
            "Epoch 17/30\n",
            "\u001b[1m2/2\u001b[0m \u001b[32m━━━━━━━━━━━━━━━━━━━━\u001b[0m\u001b[37m\u001b[0m \u001b[1m0s\u001b[0m 26ms/step - accuracy: 0.2477 - loss: 1.8693\n",
            "Epoch 18/30\n",
            "\u001b[1m2/2\u001b[0m \u001b[32m━━━━━━━━━━━━━━━━━━━━\u001b[0m\u001b[37m\u001b[0m \u001b[1m0s\u001b[0m 27ms/step - accuracy: 0.3056 - loss: 1.7873 \n",
            "Epoch 19/30\n",
            "\u001b[1m2/2\u001b[0m \u001b[32m━━━━━━━━━━━━━━━━━━━━\u001b[0m\u001b[37m\u001b[0m \u001b[1m0s\u001b[0m 32ms/step - accuracy: 0.4213 - loss: 1.7190 \n",
            "Epoch 20/30\n",
            "\u001b[1m2/2\u001b[0m \u001b[32m━━━━━━━━━━━━━━━━━━━━\u001b[0m\u001b[37m\u001b[0m \u001b[1m0s\u001b[0m 28ms/step - accuracy: 0.4792 - loss: 1.6642 \n",
            "Epoch 21/30\n",
            "\u001b[1m2/2\u001b[0m \u001b[32m━━━━━━━━━━━━━━━━━━━━\u001b[0m\u001b[37m\u001b[0m \u001b[1m0s\u001b[0m 25ms/step - accuracy: 0.5370 - loss: 1.6180 \n",
            "Epoch 22/30\n",
            "\u001b[1m2/2\u001b[0m \u001b[32m━━━━━━━━━━━━━━━━━━━━\u001b[0m\u001b[37m\u001b[0m \u001b[1m0s\u001b[0m 27ms/step - accuracy: 0.4792 - loss: 1.5761\n",
            "Epoch 23/30\n",
            "\u001b[1m2/2\u001b[0m \u001b[32m━━━━━━━━━━━━━━━━━━━━\u001b[0m\u001b[37m\u001b[0m \u001b[1m0s\u001b[0m 28ms/step - accuracy: 0.4792 - loss: 1.5380\n",
            "Epoch 24/30\n",
            "\u001b[1m2/2\u001b[0m \u001b[32m━━━━━━━━━━━━━━━━━━━━\u001b[0m\u001b[37m\u001b[0m \u001b[1m0s\u001b[0m 27ms/step - accuracy: 0.4792 - loss: 1.5041\n",
            "Epoch 25/30\n",
            "\u001b[1m2/2\u001b[0m \u001b[32m━━━━━━━━━━━━━━━━━━━━\u001b[0m\u001b[37m\u001b[0m \u001b[1m0s\u001b[0m 29ms/step - accuracy: 0.5370 - loss: 1.4711\n",
            "Epoch 26/30\n",
            "\u001b[1m2/2\u001b[0m \u001b[32m━━━━━━━━━━━━━━━━━━━━\u001b[0m\u001b[37m\u001b[0m \u001b[1m0s\u001b[0m 26ms/step - accuracy: 0.5949 - loss: 1.4357 \n",
            "Epoch 27/30\n",
            "\u001b[1m2/2\u001b[0m \u001b[32m━━━━━━━━━━━━━━━━━━━━\u001b[0m\u001b[37m\u001b[0m \u001b[1m0s\u001b[0m 24ms/step - accuracy: 0.5949 - loss: 1.3961 \n",
            "Epoch 28/30\n",
            "\u001b[1m2/2\u001b[0m \u001b[32m━━━━━━━━━━━━━━━━━━━━\u001b[0m\u001b[37m\u001b[0m \u001b[1m0s\u001b[0m 33ms/step - accuracy: 0.5949 - loss: 1.3513 \n",
            "Epoch 29/30\n",
            "\u001b[1m2/2\u001b[0m \u001b[32m━━━━━━━━━━━━━━━━━━━━\u001b[0m\u001b[37m\u001b[0m \u001b[1m0s\u001b[0m 26ms/step - accuracy: 0.7106 - loss: 1.3018\n",
            "Epoch 30/30\n",
            "\u001b[1m2/2\u001b[0m \u001b[32m━━━━━━━━━━━━━━━━━━━━\u001b[0m\u001b[37m\u001b[0m \u001b[1m0s\u001b[0m 28ms/step - accuracy: 0.7106 - loss: 1.2507\n"
          ]
        }
      ]
    },
    {
      "cell_type": "code",
      "source": [
        "!pip install matplotlib\n",
        "\n",
        "import matplotlib.pyplot as plt  # Import the pyplot module\n",
        "\n",
        "# Get training and validation accuracies\n",
        "acc = history.history['accuracy']\n",
        "loss = history.history['loss']\n",
        "\n",
        "# Get number of epochs\n",
        "epochs = range(len(acc))\n",
        "\n",
        "fig, ax = plt.subplots(1, 2, figsize=(10, 5)) # Now plt is recognized\n",
        "fig.suptitle('Training performance - Accuracy and Loss')\n",
        "print('Name: souvik kundu   Register Number: 212221230105')\n",
        "\n",
        "for i, (data, label) in enumerate(zip([acc,loss], [\"Accuracy\", \"Loss\"])):\n",
        "    ax[i].plot(epochs, data, label=label)\n",
        "    ax[i].legend()\n",
        "    ax[i].set_xlabel('epochs')"
      ],
      "metadata": {
        "colab": {
          "base_uri": "https://localhost:8080/",
          "height": 647
        },
        "id": "gFk-rN6UHKdT",
        "outputId": "9e1d9a9d-a3d7-4c31-f7bd-989a308fef7a"
      },
      "execution_count": 60,
      "outputs": [
        {
          "output_type": "stream",
          "name": "stdout",
          "text": [
            "Requirement already satisfied: matplotlib in /usr/local/lib/python3.10/dist-packages (3.8.0)\n",
            "Requirement already satisfied: contourpy>=1.0.1 in /usr/local/lib/python3.10/dist-packages (from matplotlib) (1.3.1)\n",
            "Requirement already satisfied: cycler>=0.10 in /usr/local/lib/python3.10/dist-packages (from matplotlib) (0.12.1)\n",
            "Requirement already satisfied: fonttools>=4.22.0 in /usr/local/lib/python3.10/dist-packages (from matplotlib) (4.55.0)\n",
            "Requirement already satisfied: kiwisolver>=1.0.1 in /usr/local/lib/python3.10/dist-packages (from matplotlib) (1.4.7)\n",
            "Requirement already satisfied: numpy<2,>=1.21 in /usr/local/lib/python3.10/dist-packages (from matplotlib) (1.26.4)\n",
            "Requirement already satisfied: packaging>=20.0 in /usr/local/lib/python3.10/dist-packages (from matplotlib) (24.2)\n",
            "Requirement already satisfied: pillow>=6.2.0 in /usr/local/lib/python3.10/dist-packages (from matplotlib) (11.0.0)\n",
            "Requirement already satisfied: pyparsing>=2.3.1 in /usr/local/lib/python3.10/dist-packages (from matplotlib) (3.2.0)\n",
            "Requirement already satisfied: python-dateutil>=2.7 in /usr/local/lib/python3.10/dist-packages (from matplotlib) (2.8.2)\n",
            "Requirement already satisfied: six>=1.5 in /usr/local/lib/python3.10/dist-packages (from python-dateutil>=2.7->matplotlib) (1.16.0)\n",
            "Name: souvik kundu   Register Number: 212221230105\n"
          ]
        },
        {
          "output_type": "display_data",
          "data": {
            "text/plain": [
              "<Figure size 1000x500 with 2 Axes>"
            ],
            "image/png": "[encoded data removed]"
          },
          "metadata": {}
        }
      ]
    },
    {
      "cell_type": "code",
      "source": [],
      "metadata": {
        "id": "8qSLieIaHRMs"
      },
      "execution_count": null,
      "outputs": []
    }
  ]
}